{
 "cells": [
  {
   "cell_type": "code",
   "execution_count": 3,
   "metadata": {},
   "outputs": [],
   "source": [
    "import pandas as pd\n",
    "import numpy as np\n",
    "import os\n",
    "import matplotlib.pyplot as plt\n",
    "import seaborn as sns\n",
    "import os.path\n",
    "import io"
   ]
  },
  {
   "cell_type": "markdown",
   "metadata": {},
   "source": [
    "# Loading in data + discovery"
   ]
  },
  {
   "cell_type": "code",
   "execution_count": 4,
   "metadata": {},
   "outputs": [],
   "source": [
    "raiders_data = pd.read_csv(\"raiders.csv\")\n",
    "rams_data = pd.read_csv('rams.csv')\n",
    "chargers_data = pd.read_csv('chargers.csv')"
   ]
  },
  {
   "cell_type": "code",
   "execution_count": 5,
   "metadata": {},
   "outputs": [
    {
     "data": {
      "text/html": [
       "<div>\n",
       "<style scoped>\n",
       "    .dataframe tbody tr th:only-of-type {\n",
       "        vertical-align: middle;\n",
       "    }\n",
       "\n",
       "    .dataframe tbody tr th {\n",
       "        vertical-align: top;\n",
       "    }\n",
       "\n",
       "    .dataframe thead th {\n",
       "        text-align: right;\n",
       "    }\n",
       "</style>\n",
       "<table border=\"1\" class=\"dataframe\">\n",
       "  <thead>\n",
       "    <tr style=\"text-align: right;\">\n",
       "      <th></th>\n",
       "      <th>Unnamed: 0</th>\n",
       "      <th>Unnamed: 1</th>\n",
       "      <th>Unnamed: 2</th>\n",
       "      <th>Unnamed: 3</th>\n",
       "      <th>Unnamed: 4</th>\n",
       "      <th>Unnamed: 5</th>\n",
       "      <th>Unnamed: 6</th>\n",
       "      <th>Unnamed: 7</th>\n",
       "      <th>Points</th>\n",
       "      <th>Points.1</th>\n",
       "      <th>...</th>\n",
       "      <th>Def Rank.1</th>\n",
       "      <th>Overall Rank</th>\n",
       "      <th>Overall Rank.1</th>\n",
       "      <th>Overall Rank.2</th>\n",
       "      <th>Overall Rank.3</th>\n",
       "      <th>Simple Rating System</th>\n",
       "      <th>Simple Rating System.1</th>\n",
       "      <th>Simple Rating System.2</th>\n",
       "      <th>Simple Rating System.3</th>\n",
       "      <th>Simple Rating System.4</th>\n",
       "    </tr>\n",
       "  </thead>\n",
       "  <tbody>\n",
       "    <tr>\n",
       "      <td>0</td>\n",
       "      <td>Year</td>\n",
       "      <td>Lg</td>\n",
       "      <td>Tm</td>\n",
       "      <td>W</td>\n",
       "      <td>L</td>\n",
       "      <td>T</td>\n",
       "      <td>Div. Finish</td>\n",
       "      <td>Playoffs</td>\n",
       "      <td>PF</td>\n",
       "      <td>PA</td>\n",
       "      <td>...</td>\n",
       "      <td>Yds</td>\n",
       "      <td>T/G</td>\n",
       "      <td>Pts±</td>\n",
       "      <td>Yds±</td>\n",
       "      <td>out of</td>\n",
       "      <td>MoV</td>\n",
       "      <td>SoS</td>\n",
       "      <td>SRS</td>\n",
       "      <td>OSRS</td>\n",
       "      <td>DSRS</td>\n",
       "    </tr>\n",
       "    <tr>\n",
       "      <td>1</td>\n",
       "      <td>NaN</td>\n",
       "      <td>NaN</td>\n",
       "      <td>NaN</td>\n",
       "      <td>NaN</td>\n",
       "      <td>NaN</td>\n",
       "      <td>NaN</td>\n",
       "      <td>NaN</td>\n",
       "      <td>NaN</td>\n",
       "      <td>NaN</td>\n",
       "      <td>NaN</td>\n",
       "      <td>...</td>\n",
       "      <td>NaN</td>\n",
       "      <td>NaN</td>\n",
       "      <td>NaN</td>\n",
       "      <td>NaN</td>\n",
       "      <td>NaN</td>\n",
       "      <td>NaN</td>\n",
       "      <td>NaN</td>\n",
       "      <td>NaN</td>\n",
       "      <td>NaN</td>\n",
       "      <td>NaN</td>\n",
       "    </tr>\n",
       "    <tr>\n",
       "      <td>2</td>\n",
       "      <td>1994</td>\n",
       "      <td>NFL</td>\n",
       "      <td>Los Angeles Raiders</td>\n",
       "      <td>9</td>\n",
       "      <td>7</td>\n",
       "      <td>0</td>\n",
       "      <td>3rd of 5</td>\n",
       "      <td>NaN</td>\n",
       "      <td>303</td>\n",
       "      <td>327</td>\n",
       "      <td>...</td>\n",
       "      <td>10</td>\n",
       "      <td>22</td>\n",
       "      <td>15</td>\n",
       "      <td>14</td>\n",
       "      <td>28</td>\n",
       "      <td>-1.5</td>\n",
       "      <td>-0.1</td>\n",
       "      <td>-1.6</td>\n",
       "      <td>-1.9</td>\n",
       "      <td>0.3</td>\n",
       "    </tr>\n",
       "    <tr>\n",
       "      <td>3</td>\n",
       "      <td>1993</td>\n",
       "      <td>NFL</td>\n",
       "      <td>Los Angeles Raiders*</td>\n",
       "      <td>10</td>\n",
       "      <td>6</td>\n",
       "      <td>0</td>\n",
       "      <td>2nd of 5</td>\n",
       "      <td>Lost Div</td>\n",
       "      <td>306</td>\n",
       "      <td>326</td>\n",
       "      <td>...</td>\n",
       "      <td>9</td>\n",
       "      <td>18</td>\n",
       "      <td>18</td>\n",
       "      <td>10</td>\n",
       "      <td>28</td>\n",
       "      <td>-1.3</td>\n",
       "      <td>0.6</td>\n",
       "      <td>-0.7</td>\n",
       "      <td>1.1</td>\n",
       "      <td>-1.7</td>\n",
       "    </tr>\n",
       "    <tr>\n",
       "      <td>4</td>\n",
       "      <td>1992</td>\n",
       "      <td>NFL</td>\n",
       "      <td>Los Angeles Raiders</td>\n",
       "      <td>7</td>\n",
       "      <td>9</td>\n",
       "      <td>0</td>\n",
       "      <td>4th of 5</td>\n",
       "      <td>NaN</td>\n",
       "      <td>249</td>\n",
       "      <td>281</td>\n",
       "      <td>...</td>\n",
       "      <td>9</td>\n",
       "      <td>28</td>\n",
       "      <td>15</td>\n",
       "      <td>14</td>\n",
       "      <td>28</td>\n",
       "      <td>-2.0</td>\n",
       "      <td>0.4</td>\n",
       "      <td>-1.6</td>\n",
       "      <td>-3.2</td>\n",
       "      <td>1.5</td>\n",
       "    </tr>\n",
       "  </tbody>\n",
       "</table>\n",
       "<p>5 rows × 29 columns</p>\n",
       "</div>"
      ],
      "text/plain": [
       "  Unnamed: 0 Unnamed: 1            Unnamed: 2 Unnamed: 3 Unnamed: 4  \\\n",
       "0       Year         Lg                    Tm          W          L   \n",
       "1        NaN        NaN                   NaN        NaN        NaN   \n",
       "2       1994        NFL   Los Angeles Raiders          9          7   \n",
       "3       1993        NFL  Los Angeles Raiders*         10          6   \n",
       "4       1992        NFL   Los Angeles Raiders          7          9   \n",
       "\n",
       "  Unnamed: 5   Unnamed: 6 Unnamed: 7 Points Points.1  ... Def Rank.1  \\\n",
       "0          T  Div. Finish   Playoffs     PF       PA  ...        Yds   \n",
       "1        NaN          NaN        NaN    NaN      NaN  ...        NaN   \n",
       "2          0     3rd of 5        NaN    303      327  ...         10   \n",
       "3          0     2nd of 5   Lost Div    306      326  ...          9   \n",
       "4          0     4th of 5        NaN    249      281  ...          9   \n",
       "\n",
       "  Overall Rank Overall Rank.1 Overall Rank.2 Overall Rank.3  \\\n",
       "0          T/G           Pts±           Yds±         out of   \n",
       "1          NaN            NaN            NaN            NaN   \n",
       "2           22             15             14             28   \n",
       "3           18             18             10             28   \n",
       "4           28             15             14             28   \n",
       "\n",
       "  Simple Rating System Simple Rating System.1 Simple Rating System.2  \\\n",
       "0                  MoV                    SoS                    SRS   \n",
       "1                  NaN                    NaN                    NaN   \n",
       "2                 -1.5                   -0.1                   -1.6   \n",
       "3                 -1.3                    0.6                   -0.7   \n",
       "4                 -2.0                    0.4                   -1.6   \n",
       "\n",
       "  Simple Rating System.3 Simple Rating System.4  \n",
       "0                   OSRS                   DSRS  \n",
       "1                    NaN                    NaN  \n",
       "2                   -1.9                    0.3  \n",
       "3                    1.1                   -1.7  \n",
       "4                   -3.2                    1.5  \n",
       "\n",
       "[5 rows x 29 columns]"
      ]
     },
     "execution_count": 5,
     "metadata": {},
     "output_type": "execute_result"
    }
   ],
   "source": [
    "# examining data\n",
    "raiders_data = pd.DataFrame(raiders_data)\n",
    "raiders_data.head(5)"
   ]
  },
  {
   "cell_type": "code",
   "execution_count": 6,
   "metadata": {},
   "outputs": [
    {
     "data": {
      "text/plain": [
       "'Year'"
      ]
     },
     "execution_count": 6,
     "metadata": {},
     "output_type": "execute_result"
    }
   ],
   "source": [
    "# Getting first (0th) row of the \"Unnamed: 0\" col\n",
    "raiders_data.loc[0, 'Unnamed: 0']"
   ]
  },
  {
   "cell_type": "markdown",
   "metadata": {},
   "source": [
    "All the NFL data has corrupted column names and corrupted first row values as a result"
   ]
  },
  {
   "cell_type": "markdown",
   "metadata": {},
   "source": [
    "# Fixing and Aggregating NFL datasets"
   ]
  },
  {
   "cell_type": "markdown",
   "metadata": {},
   "source": [
    "## Fixing Column Names\n"
   ]
  },
  {
   "cell_type": "code",
   "execution_count": 7,
   "metadata": {},
   "outputs": [
    {
     "data": {
      "text/html": [
       "<div>\n",
       "<style scoped>\n",
       "    .dataframe tbody tr th:only-of-type {\n",
       "        vertical-align: middle;\n",
       "    }\n",
       "\n",
       "    .dataframe tbody tr th {\n",
       "        vertical-align: top;\n",
       "    }\n",
       "\n",
       "    .dataframe thead th {\n",
       "        text-align: right;\n",
       "    }\n",
       "</style>\n",
       "<table border=\"1\" class=\"dataframe\">\n",
       "  <thead>\n",
       "    <tr style=\"text-align: right;\">\n",
       "      <th></th>\n",
       "      <th>Year</th>\n",
       "      <th>Lg</th>\n",
       "      <th>Tm</th>\n",
       "      <th>W</th>\n",
       "      <th>L</th>\n",
       "      <th>T</th>\n",
       "      <th>Div. Finish</th>\n",
       "      <th>Playoffs</th>\n",
       "      <th>PF</th>\n",
       "      <th>PA</th>\n",
       "      <th>...</th>\n",
       "      <th>Yds</th>\n",
       "      <th>T/G</th>\n",
       "      <th>Pts±</th>\n",
       "      <th>Yds±</th>\n",
       "      <th>out of</th>\n",
       "      <th>MoV</th>\n",
       "      <th>SoS</th>\n",
       "      <th>SRS</th>\n",
       "      <th>OSRS</th>\n",
       "      <th>DSRS</th>\n",
       "    </tr>\n",
       "  </thead>\n",
       "  <tbody>\n",
       "    <tr>\n",
       "      <td>2</td>\n",
       "      <td>1994</td>\n",
       "      <td>NFL</td>\n",
       "      <td>Los Angeles Raiders</td>\n",
       "      <td>9</td>\n",
       "      <td>7</td>\n",
       "      <td>0</td>\n",
       "      <td>3rd of 5</td>\n",
       "      <td>NaN</td>\n",
       "      <td>303</td>\n",
       "      <td>327</td>\n",
       "      <td>...</td>\n",
       "      <td>10</td>\n",
       "      <td>22</td>\n",
       "      <td>15</td>\n",
       "      <td>14</td>\n",
       "      <td>28</td>\n",
       "      <td>-1.5</td>\n",
       "      <td>-0.1</td>\n",
       "      <td>-1.6</td>\n",
       "      <td>-1.9</td>\n",
       "      <td>0.3</td>\n",
       "    </tr>\n",
       "    <tr>\n",
       "      <td>3</td>\n",
       "      <td>1993</td>\n",
       "      <td>NFL</td>\n",
       "      <td>Los Angeles Raiders*</td>\n",
       "      <td>10</td>\n",
       "      <td>6</td>\n",
       "      <td>0</td>\n",
       "      <td>2nd of 5</td>\n",
       "      <td>Lost Div</td>\n",
       "      <td>306</td>\n",
       "      <td>326</td>\n",
       "      <td>...</td>\n",
       "      <td>9</td>\n",
       "      <td>18</td>\n",
       "      <td>18</td>\n",
       "      <td>10</td>\n",
       "      <td>28</td>\n",
       "      <td>-1.3</td>\n",
       "      <td>0.6</td>\n",
       "      <td>-0.7</td>\n",
       "      <td>1.1</td>\n",
       "      <td>-1.7</td>\n",
       "    </tr>\n",
       "    <tr>\n",
       "      <td>4</td>\n",
       "      <td>1992</td>\n",
       "      <td>NFL</td>\n",
       "      <td>Los Angeles Raiders</td>\n",
       "      <td>7</td>\n",
       "      <td>9</td>\n",
       "      <td>0</td>\n",
       "      <td>4th of 5</td>\n",
       "      <td>NaN</td>\n",
       "      <td>249</td>\n",
       "      <td>281</td>\n",
       "      <td>...</td>\n",
       "      <td>9</td>\n",
       "      <td>28</td>\n",
       "      <td>15</td>\n",
       "      <td>14</td>\n",
       "      <td>28</td>\n",
       "      <td>-2.0</td>\n",
       "      <td>0.4</td>\n",
       "      <td>-1.6</td>\n",
       "      <td>-3.2</td>\n",
       "      <td>1.5</td>\n",
       "    </tr>\n",
       "    <tr>\n",
       "      <td>5</td>\n",
       "      <td>1991</td>\n",
       "      <td>NFL</td>\n",
       "      <td>Los Angeles Raiders*</td>\n",
       "      <td>9</td>\n",
       "      <td>7</td>\n",
       "      <td>0</td>\n",
       "      <td>3rd of 5</td>\n",
       "      <td>Lost WC</td>\n",
       "      <td>298</td>\n",
       "      <td>297</td>\n",
       "      <td>...</td>\n",
       "      <td>21</td>\n",
       "      <td>11</td>\n",
       "      <td>15</td>\n",
       "      <td>24</td>\n",
       "      <td>28</td>\n",
       "      <td>0.1</td>\n",
       "      <td>1.3</td>\n",
       "      <td>1.4</td>\n",
       "      <td>0.3</td>\n",
       "      <td>1.1</td>\n",
       "    </tr>\n",
       "    <tr>\n",
       "      <td>6</td>\n",
       "      <td>1990</td>\n",
       "      <td>NFL</td>\n",
       "      <td>Los Angeles Raiders*</td>\n",
       "      <td>12</td>\n",
       "      <td>4</td>\n",
       "      <td>0</td>\n",
       "      <td>1st of 5</td>\n",
       "      <td>Lost Conf</td>\n",
       "      <td>337</td>\n",
       "      <td>268</td>\n",
       "      <td>...</td>\n",
       "      <td>4</td>\n",
       "      <td>14</td>\n",
       "      <td>9</td>\n",
       "      <td>13</td>\n",
       "      <td>28</td>\n",
       "      <td>4.3</td>\n",
       "      <td>2.2</td>\n",
       "      <td>6.6</td>\n",
       "      <td>2.2</td>\n",
       "      <td>4.4</td>\n",
       "    </tr>\n",
       "  </tbody>\n",
       "</table>\n",
       "<p>5 rows × 29 columns</p>\n",
       "</div>"
      ],
      "text/plain": [
       "   Year   Lg                    Tm   W  L  T Div. Finish   Playoffs   PF   PA  \\\n",
       "2  1994  NFL   Los Angeles Raiders   9  7  0    3rd of 5        NaN  303  327   \n",
       "3  1993  NFL  Los Angeles Raiders*  10  6  0    2nd of 5   Lost Div  306  326   \n",
       "4  1992  NFL   Los Angeles Raiders   7  9  0    4th of 5        NaN  249  281   \n",
       "5  1991  NFL  Los Angeles Raiders*   9  7  0    3rd of 5    Lost WC  298  297   \n",
       "6  1990  NFL  Los Angeles Raiders*  12  4  0    1st of 5  Lost Conf  337  268   \n",
       "\n",
       "   ... Yds T/G Pts± Yds± out of   MoV   SoS   SRS  OSRS  DSRS  \n",
       "2  ...  10  22   15   14     28  -1.5  -0.1  -1.6  -1.9   0.3  \n",
       "3  ...   9  18   18   10     28  -1.3   0.6  -0.7   1.1  -1.7  \n",
       "4  ...   9  28   15   14     28  -2.0   0.4  -1.6  -3.2   1.5  \n",
       "5  ...  21  11   15   24     28   0.1   1.3   1.4   0.3   1.1  \n",
       "6  ...   4  14    9   13     28   4.3   2.2   6.6   2.2   4.4  \n",
       "\n",
       "[5 rows x 29 columns]"
      ]
     },
     "execution_count": 7,
     "metadata": {},
     "output_type": "execute_result"
    }
   ],
   "source": [
    "# range function specifies the amount of time to run the loop for col number\n",
    "for i in range(raiders_data.shape[1]):\n",
    "    col = raiders_data.columns[i]\n",
    "    raiders_data.rename(columns = {col: raiders_data.loc[0,col]}, inplace = True)\n",
    "\n",
    "# getting rid of the first 2 rows\n",
    "raiders_data.drop([raiders_data.index[0], raiders_data.index[1]], inplace = True)\n",
    "\n",
    "raiders_data.head(5)"
   ]
  },
  {
   "cell_type": "markdown",
   "metadata": {},
   "source": [
    "## Creating a column_fixer function"
   ]
  },
  {
   "cell_type": "code",
   "execution_count": 8,
   "metadata": {},
   "outputs": [],
   "source": [
    "def column_fixer(data):\n",
    "    # range function specifies the amount of time to run the loop for col number\n",
    "    for i in range(data.shape[1]):\n",
    "        col = data.columns[i]\n",
    "        data.rename(columns = {col: data.loc[0,col]}, inplace = True)\n",
    "\n",
    "    # getting rid of the first 2 rows\n",
    "    data.drop([data.index[0], data.index[1]], inplace = True)"
   ]
  },
  {
   "cell_type": "code",
   "execution_count": 9,
   "metadata": {},
   "outputs": [],
   "source": [
    "# applying function to other NFL datasets\n",
    "column_fixer(chargers_data)\n",
    "column_fixer(rams_data)"
   ]
  },
  {
   "cell_type": "markdown",
   "metadata": {},
   "source": [
    "## Aggregating all NFL data together into singular dataframe"
   ]
  },
  {
   "cell_type": "code",
   "execution_count": 10,
   "metadata": {},
   "outputs": [],
   "source": [
    "# adding 'team' label\n",
    "raiders_data['Team'] = 'Raiders'\n",
    "chargers_data['Team'] = 'Chargers'\n",
    "rams_data['Team'] = 'Rams'"
   ]
  },
  {
   "cell_type": "code",
   "execution_count": 17,
   "metadata": {},
   "outputs": [
    {
     "ename": "MergeError",
     "evalue": "Data columns not unique: Index(['Year', 'Lg', 'Tm', 'W', 'L', 'T', 'Div. Finish', 'Playoffs', 'PF',\n       'PA', 'PD', 'Coaches', 'AV', 'Passer', 'Rusher', 'Receiver', 'Pts',\n       'Yds', 'Pts', 'Yds', 'T/G', 'Pts±', 'Yds±', 'out of', 'MoV', 'SoS',\n       'SRS', 'OSRS', 'DSRS', 'Team'],\n      dtype='object')",
     "output_type": "error",
     "traceback": [
      "\u001b[1;31m---------------------------------------------------------------------------\u001b[0m",
      "\u001b[1;31mMergeError\u001b[0m                                Traceback (most recent call last)",
      "\u001b[1;32m<ipython-input-17-34e0dd20335b>\u001b[0m in \u001b[0;36m<module>\u001b[1;34m\u001b[0m\n\u001b[0;32m      1\u001b[0m \u001b[1;31m# merging nfl datasets\u001b[0m\u001b[1;33m\u001b[0m\u001b[1;33m\u001b[0m\u001b[1;33m\u001b[0m\u001b[0m\n\u001b[0;32m      2\u001b[0m nfl_data = pd.merge(\n\u001b[1;32m----> 3\u001b[1;33m     \u001b[0mraiders_data\u001b[0m\u001b[1;33m,\u001b[0m \u001b[0mchargers_data\u001b[0m\u001b[1;33m,\u001b[0m \u001b[0mhow\u001b[0m \u001b[1;33m=\u001b[0m \u001b[1;34m'outer'\u001b[0m\u001b[1;33m\u001b[0m\u001b[1;33m\u001b[0m\u001b[0m\n\u001b[0m\u001b[0;32m      4\u001b[0m )\n\u001b[0;32m      5\u001b[0m \u001b[1;33m\u001b[0m\u001b[0m\n",
      "\u001b[1;32m~\\Anaconda\\lib\\site-packages\\pandas\\core\\reshape\\merge.py\u001b[0m in \u001b[0;36mmerge\u001b[1;34m(left, right, how, on, left_on, right_on, left_index, right_index, sort, suffixes, copy, indicator, validate)\u001b[0m\n\u001b[0;32m     79\u001b[0m         \u001b[0mcopy\u001b[0m\u001b[1;33m=\u001b[0m\u001b[0mcopy\u001b[0m\u001b[1;33m,\u001b[0m\u001b[1;33m\u001b[0m\u001b[1;33m\u001b[0m\u001b[0m\n\u001b[0;32m     80\u001b[0m         \u001b[0mindicator\u001b[0m\u001b[1;33m=\u001b[0m\u001b[0mindicator\u001b[0m\u001b[1;33m,\u001b[0m\u001b[1;33m\u001b[0m\u001b[1;33m\u001b[0m\u001b[0m\n\u001b[1;32m---> 81\u001b[1;33m         \u001b[0mvalidate\u001b[0m\u001b[1;33m=\u001b[0m\u001b[0mvalidate\u001b[0m\u001b[1;33m,\u001b[0m\u001b[1;33m\u001b[0m\u001b[1;33m\u001b[0m\u001b[0m\n\u001b[0m\u001b[0;32m     82\u001b[0m     )\n\u001b[0;32m     83\u001b[0m     \u001b[1;32mreturn\u001b[0m \u001b[0mop\u001b[0m\u001b[1;33m.\u001b[0m\u001b[0mget_result\u001b[0m\u001b[1;33m(\u001b[0m\u001b[1;33m)\u001b[0m\u001b[1;33m\u001b[0m\u001b[1;33m\u001b[0m\u001b[0m\n",
      "\u001b[1;32m~\\Anaconda\\lib\\site-packages\\pandas\\core\\reshape\\merge.py\u001b[0m in \u001b[0;36m__init__\u001b[1;34m(self, left, right, how, on, left_on, right_on, axis, left_index, right_index, sort, suffixes, copy, indicator, validate)\u001b[0m\n\u001b[0;32m    617\u001b[0m             \u001b[0mwarnings\u001b[0m\u001b[1;33m.\u001b[0m\u001b[0mwarn\u001b[0m\u001b[1;33m(\u001b[0m\u001b[0mmsg\u001b[0m\u001b[1;33m,\u001b[0m \u001b[0mUserWarning\u001b[0m\u001b[1;33m)\u001b[0m\u001b[1;33m\u001b[0m\u001b[1;33m\u001b[0m\u001b[0m\n\u001b[0;32m    618\u001b[0m \u001b[1;33m\u001b[0m\u001b[0m\n\u001b[1;32m--> 619\u001b[1;33m         \u001b[0mself\u001b[0m\u001b[1;33m.\u001b[0m\u001b[0m_validate_specification\u001b[0m\u001b[1;33m(\u001b[0m\u001b[1;33m)\u001b[0m\u001b[1;33m\u001b[0m\u001b[1;33m\u001b[0m\u001b[0m\n\u001b[0m\u001b[0;32m    620\u001b[0m \u001b[1;33m\u001b[0m\u001b[0m\n\u001b[0;32m    621\u001b[0m         \u001b[1;31m# note this function has side effects\u001b[0m\u001b[1;33m\u001b[0m\u001b[1;33m\u001b[0m\u001b[1;33m\u001b[0m\u001b[0m\n",
      "\u001b[1;32m~\\Anaconda\\lib\\site-packages\\pandas\\core\\reshape\\merge.py\u001b[0m in \u001b[0;36m_validate_specification\u001b[1;34m(self)\u001b[0m\n\u001b[0;32m   1193\u001b[0m                 \u001b[1;32mif\u001b[0m \u001b[1;32mnot\u001b[0m \u001b[0mcommon_cols\u001b[0m\u001b[1;33m.\u001b[0m\u001b[0mis_unique\u001b[0m\u001b[1;33m:\u001b[0m\u001b[1;33m\u001b[0m\u001b[1;33m\u001b[0m\u001b[0m\n\u001b[0;32m   1194\u001b[0m                     raise MergeError(\n\u001b[1;32m-> 1195\u001b[1;33m                         \u001b[1;34m\"Data columns not unique: {common!r}\"\u001b[0m\u001b[1;33m.\u001b[0m\u001b[0mformat\u001b[0m\u001b[1;33m(\u001b[0m\u001b[0mcommon\u001b[0m\u001b[1;33m=\u001b[0m\u001b[0mcommon_cols\u001b[0m\u001b[1;33m)\u001b[0m\u001b[1;33m\u001b[0m\u001b[1;33m\u001b[0m\u001b[0m\n\u001b[0m\u001b[0;32m   1196\u001b[0m                     )\n\u001b[0;32m   1197\u001b[0m                 \u001b[0mself\u001b[0m\u001b[1;33m.\u001b[0m\u001b[0mleft_on\u001b[0m \u001b[1;33m=\u001b[0m \u001b[0mself\u001b[0m\u001b[1;33m.\u001b[0m\u001b[0mright_on\u001b[0m \u001b[1;33m=\u001b[0m \u001b[0mcommon_cols\u001b[0m\u001b[1;33m\u001b[0m\u001b[1;33m\u001b[0m\u001b[0m\n",
      "\u001b[1;31mMergeError\u001b[0m: Data columns not unique: Index(['Year', 'Lg', 'Tm', 'W', 'L', 'T', 'Div. Finish', 'Playoffs', 'PF',\n       'PA', 'PD', 'Coaches', 'AV', 'Passer', 'Rusher', 'Receiver', 'Pts',\n       'Yds', 'Pts', 'Yds', 'T/G', 'Pts±', 'Yds±', 'out of', 'MoV', 'SoS',\n       'SRS', 'OSRS', 'DSRS', 'Team'],\n      dtype='object')"
     ]
    }
   ],
   "source": [
    "# merging nfl datasets\n",
    "nfl_data = pd.merge(\n",
    "    raiders_data, chargers_data, how = 'outer'\n",
    ")\n",
    "\n",
    "nfl_data.shape"
   ]
  },
  {
   "cell_type": "markdown",
   "metadata": {},
   "source": [
    "# Loading in CFB data"
   ]
  },
  {
   "cell_type": "code",
   "execution_count": 13,
   "metadata": {},
   "outputs": [],
   "source": [
    "ucla_data = pd.read_csv(\"ucla.csv\")\n",
    "usc_data = pd.read_csv('usc.csv')"
   ]
  },
  {
   "cell_type": "code",
   "execution_count": 14,
   "metadata": {},
   "outputs": [],
   "source": [
    "# adding 'team' label\n",
    "ucla_data['Team'] = 'UCLA'\n",
    "usc_data['Team'] = 'USC'"
   ]
  },
  {
   "cell_type": "code",
   "execution_count": 15,
   "metadata": {},
   "outputs": [
    {
     "data": {
      "text/plain": [
       "(197, 19)"
      ]
     },
     "execution_count": 15,
     "metadata": {},
     "output_type": "execute_result"
    }
   ],
   "source": [
    "# merging ucla & usc datasets\n",
    "ucla_and_usc = pd.merge(\n",
    "    ucla_data, usc_data, how = 'outer'\n",
    ")\n",
    "\n",
    "ucla_and_usc.shape"
   ]
  },
  {
   "cell_type": "code",
   "execution_count": 10,
   "metadata": {},
   "outputs": [],
   "source": [
    "# exporting ucla and usc to csv\n",
    "ucla_and_usc.to_csv( \"ucla_and_usc.csv\", index=False, encoding='utf-8-sig')"
   ]
  },
  {
   "cell_type": "code",
   "execution_count": 11,
   "metadata": {},
   "outputs": [
    {
     "data": {
      "text/plain": [
       "(2000, 2021)"
      ]
     },
     "execution_count": 11,
     "metadata": {},
     "output_type": "execute_result"
    },
    {
     "data": {
      "image/png": "[encoded data removed]",
      "text/plain": [
       "<Figure size 1008x720 with 1 Axes>"
      ]
     },
     "metadata": {},
     "output_type": "display_data"
    }
   ],
   "source": [
    "# Setting a large size for future plots (width x height)\n",
    "sns.set(rc = {'figure.figsize':(14,10)})\n",
    "\n",
    "usc_vs_ucla_wins = sns.lineplot(\n",
    "    'Year', 'Overall W', data = ucla_and_usc, \n",
    "    hue='Team', palette = ['blue', 'red']\n",
    "    ).set_title(\"UCLA vs USC Football Wins Over Time\", fontsize=30\n",
    ")\n",
    "\n",
    "plt.ylabel('Wins')\n",
    "plt.xlim(2000, 2021)"
   ]
  }
 ],
 "metadata": {
  "kernelspec": {
   "display_name": "Python 3",
   "language": "python",
   "name": "python3"
  },
  "language_info": {
   "codemirror_mode": {
    "name": "ipython",
    "version": 3
   },
   "file_extension": ".py",
   "mimetype": "text/x-python",
   "name": "python",
   "nbconvert_exporter": "python",
   "pygments_lexer": "ipython3",
   "version": "3.7.4"
  }
 },
 "nbformat": 4,
 "nbformat_minor": 2
}
